{
  "nbformat": 4,
  "nbformat_minor": 0,
  "metadata": {
    "colab": {
      "name": "Primera sesión práctica ML especializacion.ipynb",
      "provenance": [],
      "authorship_tag": "ABX9TyMiDqowRkqpQt70lgaK4lYg",
      "include_colab_link": true
    },
    "kernelspec": {
      "name": "python3",
      "display_name": "Python 3"
    },
    "language_info": {
      "name": "python"
    }
  },
  "cells": [
    {
      "cell_type": "markdown",
      "metadata": {
        "id": "view-in-github",
        "colab_type": "text"
      },
      "source": [
        "<a href=\"https://colab.research.google.com/github/DiegoPintoR23/Especializaci-n-ML/blob/main/Primera_sesi%C3%B3n_pr%C3%A1ctica_ML_especializacion.ipynb\" target=\"_parent\"><img src=\"https://colab.research.google.com/assets/colab-badge.svg\" alt=\"Open In Colab\"/></a>"
      ]
    },
    {
      "cell_type": "markdown",
      "source": [
        "Esto es un comentario"
      ],
      "metadata": {
        "id": "bApqIQCOx-Jx"
      }
    },
    {
      "cell_type": "markdown",
      "source": [
        "# Grande\n",
        "## Mediana\n",
        "### Grande\n",
        "**negrita**\n",
        "*cursiva*\n",
        "\n",
        "```\n",
        "1 + 1\n",
        "```\n",
        "\n"
      ],
      "metadata": {
        "id": "iMtKfz6NyMTp"
      }
    },
    {
      "cell_type": "code",
      "source": [
        "1 + 1"
      ],
      "metadata": {
        "colab": {
          "base_uri": "https://localhost:8080/"
        },
        "id": "dNzTJsuuyev0",
        "outputId": "3fb44be1-d73c-4423-d35f-ed28bd747ce8"
      },
      "execution_count": null,
      "outputs": [
        {
          "output_type": "execute_result",
          "data": {
            "text/plain": [
              "2"
            ]
          },
          "metadata": {},
          "execution_count": 2
        }
      ]
    },
    {
      "cell_type": "code",
      "source": [
        "365 * 7999"
      ],
      "metadata": {
        "colab": {
          "base_uri": "https://localhost:8080/"
        },
        "id": "M6f806wTynMd",
        "outputId": "18a6ea53-0bea-4eee-8052-1d8ce053cb84"
      },
      "execution_count": null,
      "outputs": [
        {
          "output_type": "execute_result",
          "data": {
            "text/plain": [
              "2919635"
            ]
          },
          "metadata": {},
          "execution_count": 3
        }
      ]
    },
    {
      "cell_type": "code",
      "source": [
        "2**3"
      ],
      "metadata": {
        "colab": {
          "base_uri": "https://localhost:8080/"
        },
        "id": "bESboOP2yphe",
        "outputId": "a959dc5a-3758-40ab-b4ba-97d10c9a56d9"
      },
      "execution_count": null,
      "outputs": [
        {
          "output_type": "execute_result",
          "data": {
            "text/plain": [
              "8"
            ]
          },
          "metadata": {},
          "execution_count": 5
        }
      ]
    },
    {
      "cell_type": "code",
      "source": [
        "2**16"
      ],
      "metadata": {
        "colab": {
          "base_uri": "https://localhost:8080/"
        },
        "id": "nG8N5qE5ysri",
        "outputId": "d7261d33-ce7e-4206-cf29-a3d60c23ba13"
      },
      "execution_count": null,
      "outputs": [
        {
          "output_type": "execute_result",
          "data": {
            "text/plain": [
              "65536"
            ]
          },
          "metadata": {},
          "execution_count": 6
        }
      ]
    },
    {
      "cell_type": "code",
      "source": [
        "print (\"Hello world\")"
      ],
      "metadata": {
        "colab": {
          "base_uri": "https://localhost:8080/"
        },
        "id": "V83curkhytvl",
        "outputId": "1001328d-d375-4e3f-fe5c-ed681e31d31e"
      },
      "execution_count": null,
      "outputs": [
        {
          "output_type": "stream",
          "name": "stdout",
          "text": [
            "Hello world\n"
          ]
        }
      ]
    },
    {
      "cell_type": "code",
      "source": [
        "message = 'Hello world'"
      ],
      "metadata": {
        "id": "TIR3LILjy1wV"
      },
      "execution_count": null,
      "outputs": []
    },
    {
      "cell_type": "code",
      "source": [
        "print(message)"
      ],
      "metadata": {
        "colab": {
          "base_uri": "https://localhost:8080/"
        },
        "id": "71gwhPP3y4uN",
        "outputId": "2d3ba7fc-3724-4726-fa6d-346d62ed0194"
      },
      "execution_count": null,
      "outputs": [
        {
          "output_type": "stream",
          "name": "stdout",
          "text": [
            "Hello world\n"
          ]
        }
      ]
    },
    {
      "cell_type": "code",
      "source": [
        "first_name = 'Diego'\n",
        "last_name = 'Pinto'\n",
        "print(f'{first_name} {last_name}')"
      ],
      "metadata": {
        "colab": {
          "base_uri": "https://localhost:8080/"
        },
        "id": "BQysIhcUyrlX",
        "outputId": "e79c3568-9ba3-4207-b7c9-c83cbd314a44"
      },
      "execution_count": null,
      "outputs": [
        {
          "output_type": "stream",
          "name": "stdout",
          "text": [
            "Diego Pinto\n"
          ]
        }
      ]
    },
    {
      "cell_type": "code",
      "source": [
        "first_name = str(input('Ingrese su nombre: '))\n",
        "last_name = str(input('Ingrese su apellido: '))\n",
        "\n",
        "full_name = first_name + ' ' + last_name \n",
        "print(full_name)"
      ],
      "metadata": {
        "colab": {
          "base_uri": "https://localhost:8080/"
        },
        "id": "gKfuIsRVzMRL",
        "outputId": "8cf8e641-4799-4fd5-8743-2db08940d536"
      },
      "execution_count": null,
      "outputs": [
        {
          "output_type": "stream",
          "name": "stdout",
          "text": [
            "Ingrese su nombre: diego\n",
            "Ingrese su apellido: pinto\n",
            "diego pinto\n"
          ]
        }
      ]
    },
    {
      "cell_type": "code",
      "source": [
        "print(f'{full_name.title()}')"
      ],
      "metadata": {
        "colab": {
          "base_uri": "https://localhost:8080/"
        },
        "id": "FQ2851Rc0dgW",
        "outputId": "4f26b020-ecb8-4b12-b049-840918f13686"
      },
      "execution_count": null,
      "outputs": [
        {
          "output_type": "stream",
          "name": "stdout",
          "text": [
            "Diego Pinto\n"
          ]
        }
      ]
    },
    {
      "cell_type": "code",
      "source": [],
      "metadata": {
        "id": "hdl8XshJyVNd"
      },
      "execution_count": null,
      "outputs": []
    },
    {
      "cell_type": "code",
      "source": [],
      "metadata": {
        "id": "u-WE6ACDyHXj"
      },
      "execution_count": null,
      "outputs": []
    }
  ]
}